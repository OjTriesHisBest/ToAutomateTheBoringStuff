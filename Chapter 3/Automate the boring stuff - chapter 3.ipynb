{
 "metadata": {
  "language_info": {
   "codemirror_mode": {
    "name": "ipython",
    "version": 3
   },
   "file_extension": ".py",
   "mimetype": "text/x-python",
   "name": "python",
   "nbconvert_exporter": "python",
   "pygments_lexer": "ipython3",
   "version": "3.7.3"
  },
  "orig_nbformat": 2,
  "kernelspec": {
   "name": "python373jvsc74a57bd0da0672a8a442244ef71b09bdaba6bd16d3d754046198ccbe94434f3fb29ac8a5",
   "display_name": "Python 3.7.3 64-bit ('base': conda)"
  }
 },
 "nbformat": 4,
 "nbformat_minor": 2,
 "cells": [
  {
   "source": [
    "# Automate the Boring Stuff study group\n",
    "\n",
    "Welcome to the \"Automate the Boring Stuff\" study group with the UCL Data and Insight Community of Practice. \n",
    "\n",
    "In this study group, we well be going through the famous book with the aim of improving our Python skills, incorporating more of it into our day to day work and enjoy making computers do things. \n",
    "\n",
    "Learning to code is difficult but it doesn't need to be lonely. Being surrounded by your peers is a helpful way to measure progress and rid yourself of imposter syndrome. \n",
    "\n",
    "\n",
    "\n",
    "---\n",
    "\n",
    "## Some rules and notes to keep in mind:\n",
    "\n",
    "1. We're all learning. You're not stupid for not understanding something. \n",
    "2. Have fun. \n",
    "3. Be kind. Don't belittle, or needlessly criticise people for making mistakes or not understanding things straight away. \n",
    "\n",
    "### How to make the most of the study group\n",
    "\n",
    "1. Come having read through the chapter for the week and attempted some of the problems \n",
    "2. If there's anything you're confused by, just bring it along. It's a great way to improve understanding!  \n",
    "3. Try to join regularly. Progress comes through consistency! \n",
    "4. It helps to go through the chapter in your own time and come back with some of the coding problems that we can work through together. \n",
    "\n",
    "### Helpful resources\n",
    "\n",
    "1. [Automate the Boring Stuff](https://ucl-new-primo.hosted.exlibrisgroup.com/permalink/f/5qfvbu/UCL_LMS_DS51287412040004761) (requires a UCL login)\n",
    "2. [RealPython](https://realpython.com/)\n",
    "2. [w3Schools](https://www.w3schools.com/python/default.asp)\n",
    "3. [r/learnprogramming](reddit.com/r/learnprogramming)"
   ],
   "cell_type": "markdown",
   "metadata": {}
  },
  {
   "source": [
    "# Chapter 3 \n",
    "\n",
    "## Functions \n",
    "\n",
    "Functions are an integral part to many programs. They help us compartmentalise our code as well as create reuseable blocks. As mentioned early in the chapter, this also helps with making sure our code easier to fix when we run into bugs.  \n",
    "\n",
    "A lot of the questions involved in the chapter don't require us to create code so we've added some stretch problems for you to practice at the very end. "
   ],
   "cell_type": "markdown",
   "metadata": {}
  },
  {
   "cell_type": "code",
   "execution_count": null,
   "metadata": {},
   "outputs": [],
   "source": [
    "import ABS_ch3"
   ]
  },
  {
   "source": [
    "# Question 1\n",
    "\n",
    "Why are functions advantageous to have in your programs?\n"
   ],
   "cell_type": "markdown",
   "metadata": {}
  },
  {
   "cell_type": "code",
   "execution_count": null,
   "metadata": {},
   "outputs": [],
   "source": [
    "answer_1()"
   ]
  },
  {
   "source": [
    "# Question 2 \n",
    "\n",
    "When does the code in a function execute: when the function is defined or when the function is called?"
   ],
   "cell_type": "markdown",
   "metadata": {}
  },
  {
   "cell_type": "code",
   "execution_count": null,
   "metadata": {},
   "outputs": [],
   "source": [
    "answer_2()"
   ]
  },
  {
   "source": [
    "# Question 3\n",
    "\n",
    "What statement creates a function?"
   ],
   "cell_type": "markdown",
   "metadata": {}
  },
  {
   "cell_type": "code",
   "execution_count": null,
   "metadata": {},
   "outputs": [],
   "source": [
    "answer_3()"
   ]
  },
  {
   "source": [
    "# Question 4\n",
    "\n",
    "What is the difference between a function and a function call?"
   ],
   "cell_type": "markdown",
   "metadata": {}
  },
  {
   "cell_type": "code",
   "execution_count": null,
   "metadata": {},
   "outputs": [],
   "source": [
    "answer_4()"
   ]
  },
  {
   "source": [
    "# Question 5 \n",
    "\n",
    "How many global scopes are there in a Python program? How many local scopes?"
   ],
   "cell_type": "markdown",
   "metadata": {}
  },
  {
   "cell_type": "code",
   "execution_count": null,
   "metadata": {},
   "outputs": [],
   "source": [
    "answer_5()"
   ]
  },
  {
   "source": [
    "# Question 6 \n",
    "\n",
    "What happens to variables in a local scope when the function call returns?"
   ],
   "cell_type": "markdown",
   "metadata": {}
  },
  {
   "cell_type": "code",
   "execution_count": null,
   "metadata": {},
   "outputs": [],
   "source": [
    "answer_6()"
   ]
  },
  {
   "source": [
    "# Question 7 \n",
    "\n",
    "What is a return value? Can a return value be part of an expression?"
   ],
   "cell_type": "markdown",
   "metadata": {}
  },
  {
   "cell_type": "code",
   "execution_count": null,
   "metadata": {},
   "outputs": [],
   "source": [
    "answer_7()"
   ]
  },
  {
   "source": [
    "# Question 8 \n",
    "\n",
    "If a function does not have a return statement, what is the return value of a call to that function?"
   ],
   "cell_type": "markdown",
   "metadata": {}
  },
  {
   "cell_type": "code",
   "execution_count": null,
   "metadata": {},
   "outputs": [],
   "source": [
    "answer_8()"
   ]
  },
  {
   "source": [
    "# Question 9 \n",
    "\n",
    "How can you force a variable in a function to refer to the global variable?"
   ],
   "cell_type": "markdown",
   "metadata": {}
  },
  {
   "cell_type": "code",
   "execution_count": null,
   "metadata": {},
   "outputs": [],
   "source": [
    "answer_9()"
   ]
  },
  {
   "source": [
    "# Question 10\n",
    "\n",
    "What is the data type of None?"
   ],
   "cell_type": "markdown",
   "metadata": {}
  },
  {
   "cell_type": "code",
   "execution_count": null,
   "metadata": {},
   "outputs": [],
   "source": [
    "answer_10()"
   ]
  },
  {
   "source": [
    "# Question 11 \n",
    "\n",
    "What does the import areallyourpetsnamederic statement do?"
   ],
   "cell_type": "markdown",
   "metadata": {}
  },
  {
   "cell_type": "code",
   "execution_count": null,
   "metadata": {},
   "outputs": [],
   "source": [
    "answer_11()"
   ]
  },
  {
   "source": [
    "# Question 12 \n",
    "\n",
    "If you had a function named bacon() in a module named spam, how would you call it after importing spam?"
   ],
   "cell_type": "markdown",
   "metadata": {}
  },
  {
   "cell_type": "code",
   "execution_count": null,
   "metadata": {},
   "outputs": [],
   "source": [
    "answer_12()"
   ]
  },
  {
   "source": [
    "# Question 13 \n",
    "\n",
    "How can you prevent a program from crashing when it gets an error?"
   ],
   "cell_type": "markdown",
   "metadata": {}
  },
  {
   "cell_type": "code",
   "execution_count": null,
   "metadata": {},
   "outputs": [],
   "source": [
    "answer_13()"
   ]
  },
  {
   "source": [
    "# Question 14 \n",
    "\n",
    "What goes in the try clause? What goes in the except clause?"
   ],
   "cell_type": "markdown",
   "metadata": {}
  },
  {
   "cell_type": "code",
   "execution_count": null,
   "metadata": {},
   "outputs": [],
   "source": [
    "answer_14()"
   ]
  },
  {
   "source": [
    "# Project\n",
    "\n",
    "Write a function named collatz() that has one parameter named number. If number is even, then collatz() should print number // 2 and return this value. If number is odd, then collatz() should print and return 3 * number + 1.\n",
    "\n",
    "Then write a program that lets the user type in an integer and that keeps calling collatz() on that number until the function returns the value 1. (Amazingly enough, this sequence actually works for any integer—sooner or later, using this sequence, you’ll arrive at 1! Even mathematicians aren’t sure why. Your program is exploring what’s called the Collatz sequence, sometimes called “the simplest impossible math problem.”)\n",
    "\n",
    "Remember to convert the return value from input() to an integer with the int() function; otherwise, it will be a string value."
   ],
   "cell_type": "markdown",
   "metadata": {}
  },
  {
   "cell_type": "code",
   "execution_count": 2,
   "metadata": {},
   "outputs": [],
   "source": [
    "def collatz(number):\n",
    "    pass # You can delete pass and start writing your function here. "
   ]
  },
  {
   "cell_type": "code",
   "execution_count": null,
   "metadata": {},
   "outputs": [],
   "source": [
    "project_ch3()"
   ]
  },
  {
   "cell_type": "code",
   "execution_count": null,
   "metadata": {},
   "outputs": [],
   "source": []
  }
 ]
}