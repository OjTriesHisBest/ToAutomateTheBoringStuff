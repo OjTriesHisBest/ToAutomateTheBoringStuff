{
 "metadata": {
  "language_info": {
   "codemirror_mode": {
    "name": "ipython",
    "version": 3
   },
   "file_extension": ".py",
   "mimetype": "text/x-python",
   "name": "python",
   "nbconvert_exporter": "python",
   "pygments_lexer": "ipython3",
   "version": "3.7.3"
  },
  "orig_nbformat": 2,
  "kernelspec": {
   "name": "python373jvsc74a57bd0da0672a8a442244ef71b09bdaba6bd16d3d754046198ccbe94434f3fb29ac8a5",
   "display_name": "Python 3.7.3 64-bit ('base': conda)"
  }
 },
 "nbformat": 4,
 "nbformat_minor": 2,
 "cells": [
  {
   "source": [
    "# Automate the Boring Stuff study group\n",
    "\n",
    "Welcome to the \"Automate the Boring Stuff\" study group with the UCL Data and Insight Community of Practice. \n",
    "\n",
    "In this study group, we well be going through the famous book with the aim of improving our Python skills, incorporating more of it into our day to day work and enjoy making computers do things. \n",
    "\n",
    "Learning to code is difficult but it doesn't need to be lonely. Being surrounded by your peers is a helpful way to measure progress and rid yourself of imposter syndrome. \n",
    "\n",
    "\n",
    "\n",
    "---\n",
    "\n",
    "## Some rules and notes to keep in mind:\n",
    "\n",
    "1. We're all learning. You're not stupid for not understanding something. \n",
    "2. Have fun. \n",
    "3. Be kind. Don't belittle, or needlessly criticise people for making mistakes or not understanding things straight away. \n",
    "\n",
    "### How to make the most of the study group\n",
    "\n",
    "1. Come having read through the chapter for the week and attempted some of the problems \n",
    "2. If there's anything you're confused by, just bring it along. It's a great way to improve understanding!  \n",
    "3. Try to join regularly. Progress comes through consistency! \n",
    "4. It helps to go through the chapter in your own time and come back with some of the coding problems that we can work through together. \n",
    "\n",
    "### Helpful resources\n",
    "\n",
    "1. [Automate the Boring Stuff](https://ucl-new-primo.hosted.exlibrisgroup.com/permalink/f/5qfvbu/UCL_LMS_DS51287412040004761) (requires a UCL login)\n",
    "2. [RealPython](https://realpython.com/)\n",
    "2. [w3Schools](https://www.w3schools.com/python/default.asp)\n",
    "3. [r/learnprogramming](reddit.com/r/learnprogramming)\n",
    "\n"
   ],
   "cell_type": "markdown",
   "metadata": {}
  },
  {
   "source": [
    "# Chapter Two \n",
    "\n",
    "## Flow control \n",
    "\n",
    "Last week, we covered some of the basics in Python like variables, statements and expressions. As we know, if we want our program to do more than just evaluate single statements, we'll need to tell our script to run things based on a certain logic. \n",
    "\n",
    "There are a few ways to do this which the book goes through. As usual, here are the questions below you can work through in conjuction with reading the chapter. \n",
    "\n",
    "As always, please feel free to download this notebook and use this. Below are some of problems. Try to think about what the expected answer is before running the cell (\"ctrl + enter\")."
   ],
   "cell_type": "markdown",
   "metadata": {}
  },
  {
   "cell_type": "code",
   "execution_count": 1,
   "metadata": {},
   "outputs": [],
   "source": [
    "import ABS_c2"
   ]
  },
  {
   "source": [
    "# Question 1\n",
    "\n",
    "What are the two values of the Boolean data type? How do you write them?"
   ],
   "cell_type": "markdown",
   "metadata": {}
  },
  {
   "cell_type": "code",
   "execution_count": null,
   "metadata": {},
   "outputs": [],
   "source": [
    "answer_1()"
   ]
  },
  {
   "source": [
    "# Question 2\n",
    "\n",
    "What are the three Boolean operators?"
   ],
   "cell_type": "markdown",
   "metadata": {}
  },
  {
   "cell_type": "code",
   "execution_count": null,
   "metadata": {},
   "outputs": [],
   "source": [
    "answer_2()"
   ]
  },
  {
   "source": [
    "# Question 3\n",
    "\n",
    "Write out the truth tables of each Boolean operator (that is, every possible combination of Boolean values for the operator and what they evaluate to)."
   ],
   "cell_type": "markdown",
   "metadata": {}
  },
  {
   "cell_type": "code",
   "execution_count": null,
   "metadata": {},
   "outputs": [],
   "source": [
    "and_df, or_df, not_df = answer_3()\n",
    "display(and_df, or_df, not_df)"
   ]
  },
  {
   "source": [
    "# Question 4\n",
    "\n",
    "What do the following expressions evaluate to?\n",
    "\n",
    "    (5 > 4) and (3 == 5)\n",
    "    not (5 > 4)\n",
    "    (5 > 4) or (3 == 5)\n",
    "    not ((5 > 4) or (3 == 5))\n",
    "    (True and True) and (True == False)\n",
    "    (not False) or (not True)\n"
   ],
   "cell_type": "markdown",
   "metadata": {}
  },
  {
   "cell_type": "code",
   "execution_count": null,
   "metadata": {},
   "outputs": [],
   "source": [
    "answer_4()"
   ]
  },
  {
   "source": [
    "# Question 5 \n",
    "\n",
    "What are the six comparison operators?"
   ],
   "cell_type": "markdown",
   "metadata": {}
  },
  {
   "cell_type": "code",
   "execution_count": null,
   "metadata": {},
   "outputs": [],
   "source": [
    "answer_5()"
   ]
  },
  {
   "source": [
    "# Question 6\n",
    "\n",
    "What is the difference between the equal to operator and the assignment operator?"
   ],
   "cell_type": "markdown",
   "metadata": {}
  },
  {
   "cell_type": "code",
   "execution_count": null,
   "metadata": {},
   "outputs": [],
   "source": [
    "answer_6()"
   ]
  },
  {
   "source": [
    "# Question 7 \n",
    "\n",
    "Explain what a condition is and where you would use one."
   ],
   "cell_type": "markdown",
   "metadata": {}
  },
  {
   "cell_type": "code",
   "execution_count": null,
   "metadata": {},
   "outputs": [],
   "source": [
    "answer_7()"
   ]
  },
  {
   "source": [
    "# Question 8 \n",
    "\n",
    "Identify the three blocks in this code:\n",
    "\n",
    "    spam = 0\n",
    "    if spam == 10:\n",
    "        print('eggs')\n",
    "        if spam > 5:\n",
    "            print('bacon')\n",
    "        else:\n",
    "            print('ham')\n",
    "        print('spam')\n",
    "    print('spam')"
   ],
   "cell_type": "markdown",
   "metadata": {}
  },
  {
   "cell_type": "code",
   "execution_count": null,
   "metadata": {},
   "outputs": [],
   "source": [
    "answer_8()"
   ]
  },
  {
   "source": [
    "# Question 9\n",
    "\n",
    "Write code that prints Hello if 1 is stored in spam, prints Howdy if 2 is stored in spam, and prints Greetings! if anything else is stored in spam."
   ],
   "cell_type": "markdown",
   "metadata": {}
  },
  {
   "cell_type": "code",
   "execution_count": null,
   "metadata": {},
   "outputs": [],
   "source": [
    "answer_9()"
   ]
  },
  {
   "source": [
    "# Question 10 \n",
    "\n",
    "What keys can you press if your program is stuck in an infinite loop?"
   ],
   "cell_type": "markdown",
   "metadata": {}
  },
  {
   "cell_type": "code",
   "execution_count": null,
   "metadata": {},
   "outputs": [],
   "source": [
    "answer_10()"
   ]
  },
  {
   "source": [
    "# Question 11 \n",
    "\n",
    "What is the difference between break and continue?"
   ],
   "cell_type": "markdown",
   "metadata": {}
  },
  {
   "cell_type": "code",
   "execution_count": null,
   "metadata": {},
   "outputs": [],
   "source": [
    "answer_11()"
   ]
  },
  {
   "source": [
    "# Question 12\n",
    "\n",
    "What is the difference between range(10), range(0, 10), and range(0, 10, 1) in a for loop?"
   ],
   "cell_type": "markdown",
   "metadata": {}
  },
  {
   "cell_type": "code",
   "execution_count": null,
   "metadata": {},
   "outputs": [],
   "source": [
    "answer_12()"
   ]
  },
  {
   "source": [
    "# Question 13 \n",
    "\n",
    "Write a short program that prints the numbers 1 to 10 using a for loop. Then write an equivalent program that prints the numbers 1 to 10 using a while loop."
   ],
   "cell_type": "markdown",
   "metadata": {}
  },
  {
   "cell_type": "code",
   "execution_count": null,
   "metadata": {},
   "outputs": [],
   "source": [
    "answer_13()"
   ]
  },
  {
   "source": [
    "# Question 14 \n",
    "\n",
    "If you had a function named bacon() inside a module named spam, how would you call it after importing spam?"
   ],
   "cell_type": "markdown",
   "metadata": {}
  },
  {
   "cell_type": "code",
   "execution_count": null,
   "metadata": {},
   "outputs": [],
   "source": [
    "answer_14()"
   ]
  },
  {
   "cell_type": "code",
   "execution_count": null,
   "metadata": {},
   "outputs": [],
   "source": []
  }
 ]
}