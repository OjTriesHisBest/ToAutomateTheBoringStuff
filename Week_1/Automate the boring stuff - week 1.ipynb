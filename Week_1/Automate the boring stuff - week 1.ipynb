{
 "metadata": {
  "language_info": {
   "codemirror_mode": {
    "name": "ipython",
    "version": 3
   },
   "file_extension": ".py",
   "mimetype": "text/x-python",
   "name": "python",
   "nbconvert_exporter": "python",
   "pygments_lexer": "ipython3",
   "version": "3.7.3"
  },
  "orig_nbformat": 2,
  "kernelspec": {
   "name": "python373jvsc74a57bd0da0672a8a442244ef71b09bdaba6bd16d3d754046198ccbe94434f3fb29ac8a5",
   "display_name": "Python 3.7.3 64-bit ('base': conda)"
  }
 },
 "nbformat": 4,
 "nbformat_minor": 2,
 "cells": [
  {
   "source": [
    "# Automate the Boring Stuff study group\n",
    "\n",
    "Welcome to the \"Automate the Boring Stuff\" study group with the UCL Data and Insight Community of Practice. \n",
    "\n",
    "In this study group, we well be going through the famous book with the aim of improving our Python skills, incorporating more of it into our day to day work and enjoy making computers do things. \n",
    "\n",
    "Learning to code is difficult but it doesn't need to be lonely. Being surrounded by your peers is a helpful way to measure progress and rid yourself of imposter syndrome. \n",
    "\n",
    "\n",
    "\n",
    "---\n",
    "\n",
    "## Some rules and notes to keep in mind:\n",
    "\n",
    "1. We're all learning. You're not stupid for not understanding something. \n",
    "2. Have fun. \n",
    "3. Be kind. Don't belittle, or needlessly criticise people for making mistakes or not understanding things straight away. \n",
    "\n",
    "### How to make the most of the study group\n",
    "\n",
    "1. Come having read through the chapter for the week and attempted some of the problems \n",
    "2. If there's anything you're confused by, just bring it along. It's a great way to improve understanding!  \n",
    "3. Try to join regularly. Progress comes through consistency! \n",
    "4. It helps to go through the chapter in your own time and come back with some of the coding problems that we can work through together. \n",
    "\n",
    "### Helpful resources\n",
    "\n",
    "1. [Automate the Boring Stuff](https://ucl-new-primo.hosted.exlibrisgroup.com/permalink/f/5qfvbu/UCL_LMS_DS51287412040004761) (requires a UCL login)\n",
    "2. [RealPython](https://realpython.com/)\n",
    "2. [w3Schools](https://www.w3schools.com/python/default.asp)\n",
    "3. [r/learnprogramming](reddit.com/r/learnprogramming)\n",
    "\n"
   ],
   "cell_type": "markdown",
   "metadata": {}
  },
  {
   "source": [
    "# Week one \n",
    "\n",
    "In week zero, we covered setting up a basic environment. Automate the Boring Stuff does not use a notebook (which is what this is written in) but it can be done in an IDE as well. \n",
    "\n",
    "This week, we are going through some of the baiscs of python - the first two chapters in the book. \n",
    "\n",
    "As always, please feel free to download this notebook and use this. Below are some of problems. Try to think about what the expected answer is before running the cell (\"ctrl + enter\")."
   ],
   "cell_type": "markdown",
   "metadata": {}
  },
  {
   "cell_type": "code",
   "execution_count": null,
   "metadata": {},
   "outputs": [],
   "source": [
    "import ABS_w1\n",
    "\n",
    "# This just imports the answers. Be sure to run this cell. "
   ]
  },
  {
   "source": [
    "# Question 1 \n",
    "\n",
    "## Which of these are operators and which are values? \n",
    "\n",
    "*\n",
    "\n",
    "'hello'\n",
    "\n",
    "-88.8\n",
    "\n",
    "-\n",
    "\n",
    "/\n",
    "\n",
    "+\n",
    "\n",
    "5\n"
   ],
   "cell_type": "markdown",
   "metadata": {}
  },
  {
   "cell_type": "code",
   "execution_count": null,
   "metadata": {},
   "outputs": [],
   "source": [
    "# Run this cell to reveal the answer\n",
    "\n",
    "answer_1()"
   ]
  },
  {
   "source": [
    "# Question 2 \n",
    "\n",
    "## Which of the following is a variable? Which is a string? \n",
    "\n",
    "    spam\n",
    "    'spam'"
   ],
   "cell_type": "markdown",
   "metadata": {}
  },
  {
   "cell_type": "code",
   "execution_count": null,
   "metadata": {},
   "outputs": [],
   "source": [
    "answer_2()"
   ]
  },
  {
   "source": [
    "# Question 3\n",
    "\n",
    "## Name 3 data types "
   ],
   "cell_type": "markdown",
   "metadata": {}
  },
  {
   "cell_type": "code",
   "execution_count": null,
   "metadata": {},
   "outputs": [],
   "source": [
    "answer_3()"
   ]
  },
  {
   "source": [
    "# Question 4 \n",
    "\n",
    "## What is an expression made up of? What do all expressions do?\n"
   ],
   "cell_type": "markdown",
   "metadata": {}
  },
  {
   "cell_type": "code",
   "execution_count": null,
   "metadata": {},
   "outputs": [],
   "source": [
    "answer_4()"
   ]
  },
  {
   "source": [
    "# Question 5 \n",
    "\n",
    "## What is the difference between an expression and a statement? "
   ],
   "cell_type": "markdown",
   "metadata": {}
  },
  {
   "cell_type": "code",
   "execution_count": null,
   "metadata": {},
   "outputs": [],
   "source": [
    "answer_5()"
   ]
  },
  {
   "source": [
    "# Question 6 \n",
    "\n",
    "## What does the variable bacon contain after the following code runs?\n",
    "\n",
    "    bacon = 20\n",
    "    bacon + 1"
   ],
   "cell_type": "markdown",
   "metadata": {}
  },
  {
   "cell_type": "code",
   "execution_count": null,
   "metadata": {},
   "outputs": [],
   "source": [
    "answer_6()"
   ]
  },
  {
   "source": [
    "# Question 7 \n",
    "\n",
    "## What should the following two expressions evaluate to?\n",
    "    'spam' + 'spamspam'\n",
    "    'spam' * 3"
   ],
   "cell_type": "markdown",
   "metadata": {}
  },
  {
   "cell_type": "code",
   "execution_count": null,
   "metadata": {},
   "outputs": [],
   "source": [
    "answer_7()"
   ]
  },
  {
   "source": [
    "# Question 8 \n",
    "\n",
    "## Why is eggs a valid variable name while 100 is invalid?"
   ],
   "cell_type": "markdown",
   "metadata": {}
  },
  {
   "cell_type": "code",
   "execution_count": null,
   "metadata": {},
   "outputs": [],
   "source": [
    "answer_8()"
   ]
  },
  {
   "source": [
    "# Question 9 \n",
    "\n",
    "## What three functions can be used to get the integer, floating-point number, or string version of a value?"
   ],
   "cell_type": "markdown",
   "metadata": {}
  },
  {
   "cell_type": "code",
   "execution_count": null,
   "metadata": {},
   "outputs": [],
   "source": [
    "answer_9()"
   ]
  },
  {
   "source": [
    "# Question 10\n",
    "\n",
    "## Why does this expression cause an error? How can you fix it?\n",
    "\n",
    "    'I have eaten ' + 99 + ' burritos.'"
   ],
   "cell_type": "markdown",
   "metadata": {}
  },
  {
   "cell_type": "code",
   "execution_count": null,
   "metadata": {},
   "outputs": [],
   "source": [
    "answer_10()"
   ]
  }
 ]
}